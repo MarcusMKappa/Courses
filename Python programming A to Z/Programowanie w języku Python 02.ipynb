{
 "cells": [
  {
   "cell_type": "markdown",
   "metadata": {},
   "source": [
    "# 2. Struktury Danych"
   ]
  },
  {
   "cell_type": "markdown",
   "metadata": {},
   "source": [
    "## 2.1. Zbiory"
   ]
  },
  {
   "cell_type": "code",
   "execution_count": 11,
   "metadata": {},
   "outputs": [
    {
     "name": "stdout",
     "output_type": "stream",
     "text": [
      "set()\n",
      "<class 'set'>\n"
     ]
    }
   ],
   "source": [
    "# %%\n",
    "empty_set = set()\n",
    "print(empty_set)\n",
    "print(type(empty_set))"
   ]
  },
  {
   "cell_type": "code",
   "execution_count": 12,
   "metadata": {},
   "outputs": [
    {
     "name": "stdout",
     "output_type": "stream",
     "text": [
      "{'java', 'c++', 'sql', 'python'}\n",
      "<class 'set'>\n",
      "4\n"
     ]
    }
   ],
   "source": [
    "# %%\n",
    "techs = {'python', 'java', 'c++', 'sql'}\n",
    "print(techs)\n",
    "print(type(techs))\n",
    "print(len(techs))"
   ]
  },
  {
   "cell_type": "code",
   "execution_count": 13,
   "metadata": {},
   "outputs": [
    {
     "name": "stdout",
     "output_type": "stream",
     "text": [
      "{'y', 't', 'n', 'h', 'o', 'p'}\n",
      "{'e', 'a', 'l'}\n"
     ]
    }
   ],
   "source": [
    "# %%\n",
    "print(set('pytohn'))\n",
    "print(set('aaaaaaaale'))"
   ]
  },
  {
   "cell_type": "code",
   "execution_count": 14,
   "metadata": {},
   "outputs": [
    {
     "name": "stdout",
     "output_type": "stream",
     "text": [
      "True\n",
      "False\n"
     ]
    }
   ],
   "source": [
    "# %%\n",
    "print('python' in techs)\n",
    "print('go' in techs)"
   ]
  },
  {
   "cell_type": "code",
   "execution_count": 15,
   "metadata": {},
   "outputs": [
    {
     "name": "stdout",
     "output_type": "stream",
     "text": [
      "['__and__', '__class__', '__class_getitem__', '__contains__', '__delattr__', '__dir__', '__doc__', '__eq__', '__format__', '__ge__', '__getattribute__', '__gt__', '__hash__', '__iand__', '__init__', '__init_subclass__', '__ior__', '__isub__', '__iter__', '__ixor__', '__le__', '__len__', '__lt__', '__ne__', '__new__', '__or__', '__rand__', '__reduce__', '__reduce_ex__', '__repr__', '__ror__', '__rsub__', '__rxor__', '__setattr__', '__sizeof__', '__str__', '__sub__', '__subclasshook__', '__xor__', 'add', 'clear', 'copy', 'difference', 'difference_update', 'discard', 'intersection', 'intersection_update', 'isdisjoint', 'issubset', 'issuperset', 'pop', 'remove', 'symmetric_difference', 'symmetric_difference_update', 'union', 'update']\n"
     ]
    }
   ],
   "source": [
    "# %%\n",
    "print(dir(set))"
   ]
  },
  {
   "cell_type": "code",
   "execution_count": 19,
   "metadata": {},
   "outputs": [],
   "source": [
    "# %%\n",
    "techs.add('sas')"
   ]
  },
  {
   "cell_type": "code",
   "execution_count": 20,
   "metadata": {},
   "outputs": [
    {
     "name": "stdout",
     "output_type": "stream",
     "text": [
      "{'java', 'python', 'c++', 'sql', 'sas'}\n"
     ]
    }
   ],
   "source": [
    "# %%\n",
    "print(techs)"
   ]
  },
  {
   "cell_type": "code",
   "execution_count": 21,
   "metadata": {},
   "outputs": [],
   "source": [
    "# %%\n",
    "techs.remove('sas')"
   ]
  },
  {
   "cell_type": "code",
   "execution_count": 22,
   "metadata": {},
   "outputs": [
    {
     "data": {
      "text/plain": [
       "'java'"
      ]
     },
     "execution_count": 22,
     "metadata": {},
     "output_type": "execute_result"
    }
   ],
   "source": [
    "# %%\n",
    "techs.pop()"
   ]
  },
  {
   "cell_type": "code",
   "execution_count": 24,
   "metadata": {},
   "outputs": [
    {
     "name": "stdout",
     "output_type": "stream",
     "text": [
      "set()\n"
     ]
    }
   ],
   "source": [
    "# %%\n",
    "techs.clear()\n",
    "print(techs)"
   ]
  },
  {
   "cell_type": "code",
   "execution_count": 33,
   "metadata": {},
   "outputs": [
    {
     "name": "stdout",
     "output_type": "stream",
     "text": [
      "True\n",
      "False\n",
      "True\n",
      "{1, 2, 3, 4, 5, 6, 7, 8, 9}\n",
      "{5, 6, 7}\n",
      "{1, 2, 3, 4, 8, 9}\n",
      "{1, 2, 3, 4, 5, 6, 7}\n"
     ]
    }
   ],
   "source": [
    "A = {1, 2, 3, 4, 5, 6, 7}\n",
    "B = {5, 6, 7, 8, 9}\n",
    "C = {5, 6}\n",
    "\n",
    "print(C.issubset(A))\n",
    "print(C.issubset({5, 7}))\n",
    "print(A.issuperset(C))\n",
    "print(A.union(B))\n",
    "print(A.intersection(B))\n",
    "print(A.symmetric_difference(B))\n",
    "\n",
    "D = A.copy()\n",
    "print(D)"
   ]
  },
  {
   "cell_type": "markdown",
   "metadata": {},
   "source": [
    "## 2.2. Tuple"
   ]
  },
  {
   "cell_type": "code",
   "execution_count": 34,
   "metadata": {},
   "outputs": [
    {
     "name": "stdout",
     "output_type": "stream",
     "text": [
      "()\n"
     ]
    }
   ],
   "source": [
    "# %%\n",
    "empty_tuple = tuple()\n",
    "print(empty_tuple)"
   ]
  },
  {
   "cell_type": "code",
   "execution_count": 38,
   "metadata": {},
   "outputs": [
    {
     "name": "stdout",
     "output_type": "stream",
     "text": [
      "('Amazon', 'USA', 'Technology', 1)\n"
     ]
    }
   ],
   "source": [
    "# %%\n",
    "amazon = ('Amazon', 'USA', 'Technology', 1)\n",
    "print(amazon)\n",
    "google = ('Google', 'USA', 'Technology', 2)"
   ]
  },
  {
   "cell_type": "code",
   "execution_count": 39,
   "metadata": {},
   "outputs": [
    {
     "name": "stdout",
     "output_type": "stream",
     "text": [
      "Google\n"
     ]
    }
   ],
   "source": [
    "# %%\n",
    "name_google = google[0]\n",
    "print(name_google)"
   ]
  },
  {
   "cell_type": "code",
   "execution_count": 37,
   "metadata": {},
   "outputs": [
    {
     "name": "stdout",
     "output_type": "stream",
     "text": [
      "(('Amazon', 'USA', 'Technology', 1), ('Google', 'USA', 'Technology', 2))\n"
     ]
    }
   ],
   "source": [
    "# %%\n",
    "data = (amazon, google)\n",
    "print(data)"
   ]
  },
  {
   "cell_type": "code",
   "execution_count": 40,
   "metadata": {},
   "outputs": [
    {
     "name": "stdout",
     "output_type": "stream",
     "text": [
      "('Pawel', 'Krakowiak')\n"
     ]
    }
   ],
   "source": [
    "# %%\n",
    "a = ('Pawel', 'Krakowiak')\n",
    "print(a)"
   ]
  },
  {
   "cell_type": "code",
   "execution_count": 41,
   "metadata": {},
   "outputs": [],
   "source": [
    "# %%\n",
    "imie = 'Pawel'\n",
    "nazwisko = 'Krakowiak'"
   ]
  },
  {
   "cell_type": "code",
   "execution_count": 42,
   "metadata": {},
   "outputs": [],
   "source": [
    "# %%\n",
    "imie, nazwisko, id_user = ('Pawel', 'Krakowiak', '001')"
   ]
  },
  {
   "cell_type": "code",
   "execution_count": 45,
   "metadata": {},
   "outputs": [
    {
     "name": "stdout",
     "output_type": "stream",
     "text": [
      "<class 'tuple'>\n",
      "Amazon\n",
      "USA\n",
      "IT\n",
      "AAA\n"
     ]
    }
   ],
   "source": [
    "# %%\n",
    "amazon = ('Amazon', 'USA', 'IT', 'AAA')\n",
    "print(type(amazon))\n",
    "amazon_name, country, sector, rank = amazon\n",
    "print(amazon_name)\n",
    "print(country)\n",
    "print(sector)\n",
    "print(rank)"
   ]
  },
  {
   "cell_type": "code",
   "execution_count": 44,
   "metadata": {},
   "outputs": [
    {
     "name": "stdout",
     "output_type": "stream",
     "text": [
      "<class 'tuple'>\n"
     ]
    }
   ],
   "source": [
    "# %%\n",
    "stocks = 'Amazon', 'Apple', 'IBM'\n",
    "\n",
    "print(type(stocks))"
   ]
  },
  {
   "cell_type": "code",
   "execution_count": 46,
   "metadata": {},
   "outputs": [
    {
     "name": "stdout",
     "output_type": "stream",
     "text": [
      "('Europa', 'Polska', ('Warszawa', 'Krakow', 'Wroclaw'))\n"
     ]
    }
   ],
   "source": [
    "# %%\n",
    "nested = 'Europa', 'Polska', ('Warszawa', 'Krakow', 'Wroclaw')\n",
    "print(nested)"
   ]
  },
  {
   "cell_type": "code",
   "execution_count": 47,
   "metadata": {},
   "outputs": [
    {
     "name": "stdout",
     "output_type": "stream",
     "text": [
      "14 12\n"
     ]
    }
   ],
   "source": [
    "# %%\n",
    "a = 12\n",
    "b = 14\n",
    "\n",
    "c = b\n",
    "b = a\n",
    "a = c\n",
    "print(a, b)"
   ]
  },
  {
   "cell_type": "code",
   "execution_count": 49,
   "metadata": {},
   "outputs": [
    {
     "name": "stdout",
     "output_type": "stream",
     "text": [
      "15 10\n",
      "<class 'int'>\n"
     ]
    }
   ],
   "source": [
    "# %%\n",
    "x, y = 10, 15\n",
    "x, y = y, x\n",
    "print(x, y)\n",
    "print(type(x))"
   ]
  },
  {
   "cell_type": "markdown",
   "metadata": {},
   "source": [
    "## 2.3. Listy"
   ]
  },
  {
   "cell_type": "code",
   "execution_count": 50,
   "metadata": {},
   "outputs": [
    {
     "name": "stdout",
     "output_type": "stream",
     "text": [
      "[]\n"
     ]
    }
   ],
   "source": [
    "# %%\n",
    "empty_list = list()\n",
    "print(empty_list)"
   ]
  },
  {
   "cell_type": "code",
   "execution_count": 51,
   "metadata": {},
   "outputs": [
    {
     "name": "stdout",
     "output_type": "stream",
     "text": [
      "['python 3.7', 'java', 'c++', 'go', 'sql']\n"
     ]
    }
   ],
   "source": [
    "# %%\n",
    "techs = ['python', 'java', 'c++', 'go', 'sql']\n",
    "techs[0] = 'python 3.7'\n",
    "print(techs)"
   ]
  },
  {
   "cell_type": "code",
   "execution_count": 52,
   "metadata": {},
   "outputs": [
    {
     "name": "stdout",
     "output_type": "stream",
     "text": [
      "[3, 5, 3, 5, 23]\n",
      "<class 'list'>\n"
     ]
    }
   ],
   "source": [
    "# %%\n",
    "numbers = [3, 5, 3, 5, 23]\n",
    "print(numbers)\n",
    "print(type(numbers))"
   ]
  },
  {
   "cell_type": "code",
   "execution_count": 53,
   "metadata": {},
   "outputs": [
    {
     "name": "stdout",
     "output_type": "stream",
     "text": [
      "['python', 3.7, 4, True]\n"
     ]
    }
   ],
   "source": [
    "# %%\n",
    "mixed = ['python', 3.7, 4, True]\n",
    "print(mixed)"
   ]
  },
  {
   "cell_type": "code",
   "execution_count": 55,
   "metadata": {},
   "outputs": [
    {
     "name": "stdout",
     "output_type": "stream",
     "text": [
      "[[1, 2, [3, 'sql']], ['python', 'java', 'go'], 3]\n"
     ]
    }
   ],
   "source": [
    "# %%\n",
    "empty = []\n",
    "nested = [[1, 2, [3, 'sql']], ['python', 'java', 'go'], 3]\n",
    "print(nested)"
   ]
  },
  {
   "cell_type": "code",
   "execution_count": 56,
   "metadata": {},
   "outputs": [
    {
     "name": "stdout",
     "output_type": "stream",
     "text": [
      "[['mleko', 'ziemniaki', 'makaron'], ['woda', 'jajka']]\n"
     ]
    }
   ],
   "source": [
    "# %%\n",
    "first = ['mleko', 'ziemniaki', 'makaron']\n",
    "second = ['woda', 'jajka']\n",
    "\n",
    "bucket = [first, second]\n",
    "print(bucket)"
   ]
  },
  {
   "cell_type": "code",
   "execution_count": 57,
   "metadata": {},
   "outputs": [
    {
     "data": {
      "text/plain": [
       "2"
      ]
     },
     "execution_count": 57,
     "metadata": {},
     "output_type": "execute_result"
    }
   ],
   "source": [
    "# %%\n",
    "len(bucket)"
   ]
  },
  {
   "cell_type": "code",
   "execution_count": 58,
   "metadata": {},
   "outputs": [
    {
     "name": "stdout",
     "output_type": "stream",
     "text": [
      "['python', 'java', 'c++', 'go', 'sql', 'javascript']\n"
     ]
    }
   ],
   "source": [
    "# %%\n",
    "techs = ['python', 'java', 'c++', 'go', 'sql']\n",
    "\n",
    "techs += ['javascript']\n",
    "print(techs)"
   ]
  },
  {
   "cell_type": "code",
   "execution_count": 59,
   "metadata": {},
   "outputs": [
    {
     "name": "stdout",
     "output_type": "stream",
     "text": [
      "['__add__', '__class__', '__class_getitem__', '__contains__', '__delattr__', '__delitem__', '__dir__', '__doc__', '__eq__', '__format__', '__ge__', '__getattribute__', '__getitem__', '__gt__', '__hash__', '__iadd__', '__imul__', '__init__', '__init_subclass__', '__iter__', '__le__', '__len__', '__lt__', '__mul__', '__ne__', '__new__', '__reduce__', '__reduce_ex__', '__repr__', '__reversed__', '__rmul__', '__setattr__', '__setitem__', '__sizeof__', '__str__', '__subclasshook__', 'append', 'clear', 'copy', 'count', 'extend', 'index', 'insert', 'pop', 'remove', 'reverse', 'sort']\n"
     ]
    }
   ],
   "source": [
    "# %%\n",
    "print(dir(list))"
   ]
  },
  {
   "cell_type": "markdown",
   "metadata": {},
   "source": [
    "## 2.4. Listy (wycinanie)"
   ]
  },
  {
   "cell_type": "code",
   "execution_count": 60,
   "metadata": {},
   "outputs": [],
   "source": [
    "# %%\n",
    "\n",
    "index = [ 0,  1,  2,  3,  4,  5]\n",
    "idx_n = [-6, -5, -4, -3, -2, -1]\n",
    "\n",
    "lista = [34, 23, 56, 24, 23, 76]"
   ]
  },
  {
   "cell_type": "code",
   "execution_count": 62,
   "metadata": {},
   "outputs": [
    {
     "name": "stdout",
     "output_type": "stream",
     "text": [
      "34\n",
      "23\n",
      "76\n",
      "24\n"
     ]
    }
   ],
   "source": [
    "# %%\n",
    "\n",
    "# lista[start:stop]\n",
    "# lista[index]\n",
    "# lista[start:]\n",
    "# lista[:stop]\n",
    "# lista[::step]\n",
    "\n",
    "print(lista[0])\n",
    "print(lista[1])\n",
    "print(lista[-1])\n",
    "print(lista[-3])"
   ]
  },
  {
   "cell_type": "code",
   "execution_count": 65,
   "metadata": {},
   "outputs": [
    {
     "name": "stdout",
     "output_type": "stream",
     "text": [
      "[23, 56, 24, 23]\n",
      "[23, 56, 24, 23]\n",
      "[76, 23, 24, 56, 23, 34]\n"
     ]
    }
   ],
   "source": [
    "# %%\n",
    "print(lista[1:5])\n",
    "print(lista[-5:-1])\n",
    "print(lista[::-1])"
   ]
  },
  {
   "cell_type": "code",
   "execution_count": 66,
   "metadata": {},
   "outputs": [
    {
     "name": "stdout",
     "output_type": "stream",
     "text": [
      "[34, 23, 56, 24]\n",
      "[24, 23, 76]\n"
     ]
    }
   ],
   "source": [
    "# %%\n",
    "print(lista[:4])\n",
    "print(lista[3:])"
   ]
  },
  {
   "cell_type": "markdown",
   "metadata": {},
   "source": [
    "## 2.5. Listy (metody)"
   ]
  },
  {
   "cell_type": "code",
   "execution_count": 85,
   "metadata": {},
   "outputs": [
    {
     "name": "stdout",
     "output_type": "stream",
     "text": [
      "[]\n"
     ]
    }
   ],
   "source": [
    "# %%\n",
    "techs = []\n",
    "print(techs)"
   ]
  },
  {
   "cell_type": "code",
   "execution_count": 86,
   "metadata": {},
   "outputs": [
    {
     "name": "stdout",
     "output_type": "stream",
     "text": [
      "['python']\n"
     ]
    }
   ],
   "source": [
    "# %%\n",
    "techs.append('python')\n",
    "print(techs)"
   ]
  },
  {
   "cell_type": "code",
   "execution_count": 87,
   "metadata": {},
   "outputs": [],
   "source": [
    "# %%\n",
    "techs.append('java')"
   ]
  },
  {
   "cell_type": "code",
   "execution_count": 88,
   "metadata": {},
   "outputs": [
    {
     "name": "stdout",
     "output_type": "stream",
     "text": [
      "['python', 'java', ['hadoop', 'spark']]\n"
     ]
    }
   ],
   "source": [
    "# %%\n",
    "techs.append(['hadoop', 'spark'])\n",
    "print(techs)"
   ]
  },
  {
   "cell_type": "code",
   "execution_count": 89,
   "metadata": {},
   "outputs": [
    {
     "name": "stdout",
     "output_type": "stream",
     "text": [
      "['python', 'java', ['hadoop', 'spark'], 'sql', 'sas']\n"
     ]
    }
   ],
   "source": [
    "# %%\n",
    "techs.extend(['sql', 'sas'])\n",
    "print(techs)"
   ]
  },
  {
   "cell_type": "code",
   "execution_count": 90,
   "metadata": {},
   "outputs": [
    {
     "name": "stdout",
     "output_type": "stream",
     "text": [
      "['go', 'python', 'java', ['hadoop', 'spark'], 'sql', 'sas']\n"
     ]
    }
   ],
   "source": [
    "# %%\n",
    "techs.insert(0, 'go')\n",
    "print(techs)"
   ]
  },
  {
   "cell_type": "code",
   "execution_count": 91,
   "metadata": {},
   "outputs": [
    {
     "name": "stdout",
     "output_type": "stream",
     "text": [
      "['go', 'python', 'r', 'java', ['hadoop', 'spark'], 'sql', 'sas']\n"
     ]
    }
   ],
   "source": [
    "# %%\n",
    "techs.insert(2, 'r')\n",
    "print(techs)"
   ]
  },
  {
   "cell_type": "code",
   "execution_count": 92,
   "metadata": {},
   "outputs": [
    {
     "name": "stdout",
     "output_type": "stream",
     "text": [
      "['go', 'python', 'r', 'java', ['hadoop', 'spark'], 'sql', 'sas']\n",
      "sas\n",
      "['go', 'python', 'r', 'java', ['hadoop', 'spark'], 'sql']\n"
     ]
    }
   ],
   "source": [
    "# %%\n",
    "print(techs)\n",
    "print(techs.pop())\n",
    "print(techs)"
   ]
  },
  {
   "cell_type": "code",
   "execution_count": 93,
   "metadata": {},
   "outputs": [
    {
     "name": "stdout",
     "output_type": "stream",
     "text": [
      "go\n",
      "['python', 'r', 'java', ['hadoop', 'spark'], 'sql']\n"
     ]
    }
   ],
   "source": [
    "# %%\n",
    "# techs = ['python', 'java', 'sql', 'php']\n",
    "print(techs.pop(0))\n",
    "print(techs)"
   ]
  },
  {
   "cell_type": "code",
   "execution_count": 94,
   "metadata": {},
   "outputs": [
    {
     "data": {
      "text/plain": [
       "1"
      ]
     },
     "execution_count": 94,
     "metadata": {},
     "output_type": "execute_result"
    }
   ],
   "source": [
    "# %%\n",
    "techs = ['python', 'java', 'sql', 'php']\n",
    "techs.index('java')"
   ]
  },
  {
   "cell_type": "code",
   "execution_count": 102,
   "metadata": {},
   "outputs": [
    {
     "name": "stdout",
     "output_type": "stream",
     "text": [
      "2\n",
      "1\n"
     ]
    }
   ],
   "source": [
    "# %%\n",
    "\n",
    "techs = ['python', 'java', 'sql', 'php', 'python']\n",
    "print(techs.count('python'))\n",
    "print(techs.count('java'))"
   ]
  },
  {
   "cell_type": "code",
   "execution_count": 96,
   "metadata": {},
   "outputs": [
    {
     "name": "stdout",
     "output_type": "stream",
     "text": [
      "['sql', 'r', 'python', 'php', 'java', 'angular']\n"
     ]
    }
   ],
   "source": [
    "# %%\n",
    "techs = ['python', 'java', 'sql', 'php', 'r', 'angular']\n",
    "techs.sort(reverse=True)\n",
    "print(techs)"
   ]
  },
  {
   "cell_type": "code",
   "execution_count": 97,
   "metadata": {},
   "outputs": [
    {
     "name": "stdout",
     "output_type": "stream",
     "text": [
      "['angular', 'r', 'php', 'sql', 'java', 'python']\n"
     ]
    }
   ],
   "source": [
    "# %%\n",
    "techs = ['python', 'java', 'sql', 'php', 'r', 'angular']\n",
    "# techs[::-1]\n",
    "techs.reverse()\n",
    "print(techs)"
   ]
  },
  {
   "cell_type": "code",
   "execution_count": 98,
   "metadata": {},
   "outputs": [
    {
     "name": "stdout",
     "output_type": "stream",
     "text": [
      "['angular', 'c++', 'php', 'sql', 'java', 'python']\n"
     ]
    }
   ],
   "source": [
    "# %%\n",
    "techs[1] = 'c++'\n",
    "print(techs)"
   ]
  },
  {
   "cell_type": "markdown",
   "metadata": {},
   "source": [
    "## 2.6. Słowniki"
   ]
  },
  {
   "cell_type": "code",
   "execution_count": 103,
   "metadata": {},
   "outputs": [
    {
     "name": "stdout",
     "output_type": "stream",
     "text": [
      "{}\n",
      "<class 'dict'>\n"
     ]
    }
   ],
   "source": [
    "empty_dict = dict()\n",
    "print(empty_dict)\n",
    "\n",
    "d = {}\n",
    "print(type(d))\n",
    "\n",
    "e = set()"
   ]
  },
  {
   "cell_type": "code",
   "execution_count": 133,
   "metadata": {},
   "outputs": [],
   "source": [
    "# %%\n",
    "pol_to_eng = {'jeden':'one', 'dwa':'two', 'trzy':'three'}\n",
    "\n",
    "name_to_digit = {'jeden':1, 'dwa':2, 'trzy':3}"
   ]
  },
  {
   "cell_type": "code",
   "execution_count": 134,
   "metadata": {},
   "outputs": [
    {
     "data": {
      "text/plain": [
       "3"
      ]
     },
     "execution_count": 134,
     "metadata": {},
     "output_type": "execute_result"
    }
   ],
   "source": [
    "# %%\n",
    "name_to_digit = {0:1, 1:2, 2:3}\n",
    "\n",
    "len(name_to_digit)"
   ]
  },
  {
   "cell_type": "code",
   "execution_count": 135,
   "metadata": {},
   "outputs": [
    {
     "name": "stdout",
     "output_type": "stream",
     "text": [
      "{'jeden': 'one', 'dwa': 'two', 'trzy': 'three', 'cztery': 'four'}\n"
     ]
    }
   ],
   "source": [
    "# %%\n",
    "pol_to_eng['cztery'] = 'four'\n",
    "print(pol_to_eng)"
   ]
  },
  {
   "cell_type": "code",
   "execution_count": 136,
   "metadata": {},
   "outputs": [
    {
     "data": {
      "text/plain": [
       "{'jeden': 'one', 'dwa': 'two', 'trzy': 'three', 'cztery': 'four'}"
      ]
     },
     "execution_count": 136,
     "metadata": {},
     "output_type": "execute_result"
    }
   ],
   "source": [
    "# %%\n",
    "#pol_to_eng.clear()\n",
    "dict(pol_to_eng.items())"
   ]
  },
  {
   "cell_type": "code",
   "execution_count": 137,
   "metadata": {},
   "outputs": [],
   "source": [
    "# %%\n",
    "pol_to_eng_copied = pol_to_eng.copy()"
   ]
  },
  {
   "cell_type": "code",
   "execution_count": 138,
   "metadata": {},
   "outputs": [
    {
     "data": {
      "text/plain": [
       "['jeden', 'dwa', 'trzy', 'cztery']"
      ]
     },
     "execution_count": 138,
     "metadata": {},
     "output_type": "execute_result"
    }
   ],
   "source": [
    "# %%\n",
    "list(pol_to_eng.keys())"
   ]
  },
  {
   "cell_type": "code",
   "execution_count": 139,
   "metadata": {},
   "outputs": [
    {
     "data": {
      "text/plain": [
       "['one', 'two', 'three', 'four']"
      ]
     },
     "execution_count": 139,
     "metadata": {},
     "output_type": "execute_result"
    }
   ],
   "source": [
    "# %%\n",
    "list(pol_to_eng.values())"
   ]
  },
  {
   "cell_type": "code",
   "execution_count": 140,
   "metadata": {},
   "outputs": [
    {
     "data": {
      "text/plain": [
       "[('jeden', 'one'), ('dwa', 'two'), ('trzy', 'three'), ('cztery', 'four')]"
      ]
     },
     "execution_count": 140,
     "metadata": {},
     "output_type": "execute_result"
    }
   ],
   "source": [
    "# %%\n",
    "list(pol_to_eng.items())"
   ]
  },
  {
   "cell_type": "code",
   "execution_count": 141,
   "metadata": {},
   "outputs": [
    {
     "data": {
      "text/plain": [
       "'one'"
      ]
     },
     "execution_count": 141,
     "metadata": {},
     "output_type": "execute_result"
    }
   ],
   "source": [
    "# %%\n",
    "pol_to_eng['jeden']"
   ]
  },
  {
   "cell_type": "code",
   "execution_count": 142,
   "metadata": {},
   "outputs": [
    {
     "data": {
      "text/plain": [
       "'NaN'"
      ]
     },
     "execution_count": 142,
     "metadata": {},
     "output_type": "execute_result"
    }
   ],
   "source": [
    "# %%\n",
    "pol_to_eng.get('zero', 'NaN')"
   ]
  },
  {
   "cell_type": "code",
   "execution_count": 143,
   "metadata": {},
   "outputs": [
    {
     "data": {
      "text/plain": [
       "('cztery', 'four')"
      ]
     },
     "execution_count": 143,
     "metadata": {},
     "output_type": "execute_result"
    }
   ],
   "source": [
    "# %%\n",
    "pol_to_eng.popitem()"
   ]
  },
  {
   "cell_type": "code",
   "execution_count": 145,
   "metadata": {},
   "outputs": [
    {
     "name": "stdout",
     "output_type": "stream",
     "text": [
      "{'jeden': 'one', 'dwa': 2, 'trzy': 'three'}\n"
     ]
    }
   ],
   "source": [
    "# %%\n",
    "pol_to_eng.update({'dwa':2})\n",
    "print(pol_to_eng)"
   ]
  }
 ],
 "metadata": {
  "interpreter": {
   "hash": "f08154012ddadd8e950e6e9e035c7a7b32c136e7647e9b7c77e02eb723a8bedb"
  },
  "kernelspec": {
   "display_name": "Python 3.9.12 ('base': conda)",
   "language": "python",
   "name": "python3"
  },
  "language_info": {
   "codemirror_mode": {
    "name": "ipython",
    "version": 3
   },
   "file_extension": ".py",
   "mimetype": "text/x-python",
   "name": "python",
   "nbconvert_exporter": "python",
   "pygments_lexer": "ipython3",
   "version": "3.9.12"
  },
  "orig_nbformat": 4
 },
 "nbformat": 4,
 "nbformat_minor": 2
}
