{
 "cells": [
  {
   "cell_type": "code",
   "execution_count": 1,
   "metadata": {},
   "outputs": [
    {
     "name": "stdout",
     "output_type": "stream",
     "text": [
      "        0      1       2\n",
      "0   Spark  20000  30days\n",
      "1  pandas  20000  40days\n"
     ]
    }
   ],
   "source": [
    "# Pandas DataFrame Tutorial | Beginners Guide\n",
    "# https://sparkbyexamples.com/pandas/pandas-dataframe-tutorial-beginners-guide/\n",
    "# Create pandas DataFrame from List\n",
    "import pandas as pd\n",
    "technologies = [ [\"Spark\",20000, \"30days\"], \n",
    "                 [\"pandas\",20000, \"40days\"], \n",
    "               ]\n",
    "df=pd.DataFrame(technologies)\n",
    "print(df)"
   ]
  },
  {
   "cell_type": "code",
   "execution_count": null,
   "metadata": {},
   "outputs": [],
   "source": [
    "SELECT \n",
    "\tTitle, \n",
    "\tFirstName, \n",
    "\tLastName \n",
    "FROM \n",
    "\tEmployee\n",
    "Order by \n",
    "\tFirstName ASC, \n",
    "\tLastName DESC\n",
    "LIMIT 5;"
   ]
  },
  {
   "cell_type": "code",
   "execution_count": null,
   "metadata": {},
   "outputs": [],
   "source": []
  }
 ],
 "metadata": {
  "interpreter": {
   "hash": "f08154012ddadd8e950e6e9e035c7a7b32c136e7647e9b7c77e02eb723a8bedb"
  },
  "kernelspec": {
   "display_name": "Python 3.9.12 ('base': conda)",
   "language": "python",
   "name": "python3"
  },
  "language_info": {
   "codemirror_mode": {
    "name": "ipython",
    "version": 3
   },
   "file_extension": ".py",
   "mimetype": "text/x-python",
   "name": "python",
   "nbconvert_exporter": "python",
   "pygments_lexer": "ipython3",
   "version": "3.9.12"
  },
  "orig_nbformat": 4
 },
 "nbformat": 4,
 "nbformat_minor": 2
}
